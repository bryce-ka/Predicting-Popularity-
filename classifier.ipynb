{
 "cells": [
  {
   "cell_type": "code",
   "execution_count": 1,
   "id": "c030ea52-b9ec-416d-8883-f1e6ee3c800e",
   "metadata": {},
   "outputs": [
    {
     "name": "stderr",
     "output_type": "stream",
     "text": [
      "2023-04-25 10:38:31.563877: I tensorflow/core/util/port.cc:110] oneDNN custom operations are on. You may see slightly different numerical results due to floating-point round-off errors from different computation orders. To turn them off, set the environment variable `TF_ENABLE_ONEDNN_OPTS=0`.\n",
      "2023-04-25 10:38:31.610506: I tensorflow/core/platform/cpu_feature_guard.cc:182] This TensorFlow binary is optimized to use available CPU instructions in performance-critical operations.\n",
      "To enable the following instructions: AVX2 AVX512F AVX512_VNNI FMA, in other operations, rebuild TensorFlow with the appropriate compiler flags.\n",
      "2023-04-25 10:38:32.781862: W tensorflow/compiler/tf2tensorrt/utils/py_utils.cc:38] TF-TRT Warning: Could not find TensorRT\n"
     ]
    }
   ],
   "source": [
    "import pandas as pd\n",
    "import numpy as np\n",
    "import tensorflow as tf\n",
    "import matplotlib.pyplot as plt\n",
    "from sklearn.model_selection import train_test_split\n",
    "import nltk"
   ]
  },
  {
   "cell_type": "code",
   "execution_count": 2,
   "id": "557d1b95-f29d-4093-a4e7-2f8b0a8ddcc5",
   "metadata": {
    "tags": []
   },
   "outputs": [
    {
     "data": {
      "text/html": [
       "<div>\n",
       "<style scoped>\n",
       "    .dataframe tbody tr th:only-of-type {\n",
       "        vertical-align: middle;\n",
       "    }\n",
       "\n",
       "    .dataframe tbody tr th {\n",
       "        vertical-align: top;\n",
       "    }\n",
       "\n",
       "    .dataframe thead th {\n",
       "        text-align: right;\n",
       "    }\n",
       "</style>\n",
       "<table border=\"1\" class=\"dataframe\">\n",
       "  <thead>\n",
       "    <tr style=\"text-align: right;\">\n",
       "      <th></th>\n",
       "      <th>created_utc</th>\n",
       "      <th>score</th>\n",
       "      <th>domain</th>\n",
       "      <th>id</th>\n",
       "      <th>title</th>\n",
       "      <th>ups</th>\n",
       "      <th>downs</th>\n",
       "      <th>num_comments</th>\n",
       "      <th>permalink</th>\n",
       "      <th>selftext</th>\n",
       "      <th>...</th>\n",
       "      <th>over_18</th>\n",
       "      <th>thumbnail</th>\n",
       "      <th>subreddit_id</th>\n",
       "      <th>edited</th>\n",
       "      <th>link_flair_css_class</th>\n",
       "      <th>author_flair_css_class</th>\n",
       "      <th>is_self</th>\n",
       "      <th>name</th>\n",
       "      <th>url</th>\n",
       "      <th>distinguished</th>\n",
       "    </tr>\n",
       "  </thead>\n",
       "  <tbody>\n",
       "    <tr>\n",
       "      <th>0</th>\n",
       "      <td>1.372964e+09</td>\n",
       "      <td>2785</td>\n",
       "      <td>self.Showerthoughts</td>\n",
       "      <td>1hncvt</td>\n",
       "      <td>If Hillary Clinton wins in 2016, it will be th...</td>\n",
       "      <td>4750</td>\n",
       "      <td>1965</td>\n",
       "      <td>265</td>\n",
       "      <td>http://www.reddit.com/r/Showerthoughts/comment...</td>\n",
       "      <td>NaN</td>\n",
       "      <td>...</td>\n",
       "      <td>False</td>\n",
       "      <td>NaN</td>\n",
       "      <td>t5_2szyo</td>\n",
       "      <td>False</td>\n",
       "      <td>NaN</td>\n",
       "      <td>NaN</td>\n",
       "      <td>True</td>\n",
       "      <td>t3_1hncvt</td>\n",
       "      <td>http://www.reddit.com/r/Showerthoughts/comment...</td>\n",
       "      <td>NaN</td>\n",
       "    </tr>\n",
       "    <tr>\n",
       "      <th>1</th>\n",
       "      <td>1.372606e+09</td>\n",
       "      <td>2488</td>\n",
       "      <td>self.Showerthoughts</td>\n",
       "      <td>1hd8in</td>\n",
       "      <td>I am just a penis. The rest of me is just ther...</td>\n",
       "      <td>4011</td>\n",
       "      <td>1523</td>\n",
       "      <td>162</td>\n",
       "      <td>http://www.reddit.com/r/Showerthoughts/comment...</td>\n",
       "      <td>NaN</td>\n",
       "      <td>...</td>\n",
       "      <td>False</td>\n",
       "      <td>NaN</td>\n",
       "      <td>t5_2szyo</td>\n",
       "      <td>False</td>\n",
       "      <td>NaN</td>\n",
       "      <td>NaN</td>\n",
       "      <td>True</td>\n",
       "      <td>t3_1hd8in</td>\n",
       "      <td>http://www.reddit.com/r/Showerthoughts/comment...</td>\n",
       "      <td>NaN</td>\n",
       "    </tr>\n",
       "    <tr>\n",
       "      <th>2</th>\n",
       "      <td>1.361920e+09</td>\n",
       "      <td>2387</td>\n",
       "      <td>self.Showerthoughts</td>\n",
       "      <td>19aft0</td>\n",
       "      <td>A TV channel where all the shows are set in th...</td>\n",
       "      <td>2558</td>\n",
       "      <td>171</td>\n",
       "      <td>77</td>\n",
       "      <td>http://www.reddit.com/r/Showerthoughts/comment...</td>\n",
       "      <td>You could have crime drama's, sitcoms, science...</td>\n",
       "      <td>...</td>\n",
       "      <td>False</td>\n",
       "      <td>NaN</td>\n",
       "      <td>t5_2szyo</td>\n",
       "      <td>False</td>\n",
       "      <td>NaN</td>\n",
       "      <td>NaN</td>\n",
       "      <td>True</td>\n",
       "      <td>t3_19aft0</td>\n",
       "      <td>http://www.reddit.com/r/Showerthoughts/comment...</td>\n",
       "      <td>NaN</td>\n",
       "    </tr>\n",
       "    <tr>\n",
       "      <th>3</th>\n",
       "      <td>1.370793e+09</td>\n",
       "      <td>2038</td>\n",
       "      <td>self.Showerthoughts</td>\n",
       "      <td>1fzgzv</td>\n",
       "      <td>If the oldest person on earth is 116 years old...</td>\n",
       "      <td>2559</td>\n",
       "      <td>521</td>\n",
       "      <td>71</td>\n",
       "      <td>http://www.reddit.com/r/Showerthoughts/comment...</td>\n",
       "      <td>NaN</td>\n",
       "      <td>...</td>\n",
       "      <td>False</td>\n",
       "      <td>NaN</td>\n",
       "      <td>t5_2szyo</td>\n",
       "      <td>False</td>\n",
       "      <td>NaN</td>\n",
       "      <td>NaN</td>\n",
       "      <td>True</td>\n",
       "      <td>t3_1fzgzv</td>\n",
       "      <td>http://www.reddit.com/r/Showerthoughts/comment...</td>\n",
       "      <td>NaN</td>\n",
       "    </tr>\n",
       "    <tr>\n",
       "      <th>4</th>\n",
       "      <td>1.371846e+09</td>\n",
       "      <td>2007</td>\n",
       "      <td>self.Showerthoughts</td>\n",
       "      <td>1gte67</td>\n",
       "      <td>If Kanye and Kim's child's name is North West,...</td>\n",
       "      <td>2687</td>\n",
       "      <td>680</td>\n",
       "      <td>76</td>\n",
       "      <td>http://www.reddit.com/r/Showerthoughts/comment...</td>\n",
       "      <td>NaN</td>\n",
       "      <td>...</td>\n",
       "      <td>False</td>\n",
       "      <td>NaN</td>\n",
       "      <td>t5_2szyo</td>\n",
       "      <td>False</td>\n",
       "      <td>NaN</td>\n",
       "      <td>NaN</td>\n",
       "      <td>True</td>\n",
       "      <td>t3_1gte67</td>\n",
       "      <td>http://www.reddit.com/r/Showerthoughts/comment...</td>\n",
       "      <td>NaN</td>\n",
       "    </tr>\n",
       "  </tbody>\n",
       "</table>\n",
       "<p>5 rows × 21 columns</p>\n",
       "</div>"
      ],
      "text/plain": [
       "    created_utc  score               domain      id  \\\n",
       "0  1.372964e+09   2785  self.Showerthoughts  1hncvt   \n",
       "1  1.372606e+09   2488  self.Showerthoughts  1hd8in   \n",
       "2  1.361920e+09   2387  self.Showerthoughts  19aft0   \n",
       "3  1.370793e+09   2038  self.Showerthoughts  1fzgzv   \n",
       "4  1.371846e+09   2007  self.Showerthoughts  1gte67   \n",
       "\n",
       "                                               title   ups  downs  \\\n",
       "0  If Hillary Clinton wins in 2016, it will be th...  4750   1965   \n",
       "1  I am just a penis. The rest of me is just ther...  4011   1523   \n",
       "2  A TV channel where all the shows are set in th...  2558    171   \n",
       "3  If the oldest person on earth is 116 years old...  2559    521   \n",
       "4  If Kanye and Kim's child's name is North West,...  2687    680   \n",
       "\n",
       "   num_comments                                          permalink  \\\n",
       "0           265  http://www.reddit.com/r/Showerthoughts/comment...   \n",
       "1           162  http://www.reddit.com/r/Showerthoughts/comment...   \n",
       "2            77  http://www.reddit.com/r/Showerthoughts/comment...   \n",
       "3            71  http://www.reddit.com/r/Showerthoughts/comment...   \n",
       "4            76  http://www.reddit.com/r/Showerthoughts/comment...   \n",
       "\n",
       "                                            selftext  ... over_18  thumbnail  \\\n",
       "0                                                NaN  ...   False        NaN   \n",
       "1                                                NaN  ...   False        NaN   \n",
       "2  You could have crime drama's, sitcoms, science...  ...   False        NaN   \n",
       "3                                                NaN  ...   False        NaN   \n",
       "4                                                NaN  ...   False        NaN   \n",
       "\n",
       "   subreddit_id edited link_flair_css_class  author_flair_css_class  is_self  \\\n",
       "0      t5_2szyo  False                  NaN                     NaN     True   \n",
       "1      t5_2szyo  False                  NaN                     NaN     True   \n",
       "2      t5_2szyo  False                  NaN                     NaN     True   \n",
       "3      t5_2szyo  False                  NaN                     NaN     True   \n",
       "4      t5_2szyo  False                  NaN                     NaN     True   \n",
       "\n",
       "        name                                                url distinguished  \n",
       "0  t3_1hncvt  http://www.reddit.com/r/Showerthoughts/comment...           NaN  \n",
       "1  t3_1hd8in  http://www.reddit.com/r/Showerthoughts/comment...           NaN  \n",
       "2  t3_19aft0  http://www.reddit.com/r/Showerthoughts/comment...           NaN  \n",
       "3  t3_1fzgzv  http://www.reddit.com/r/Showerthoughts/comment...           NaN  \n",
       "4  t3_1gte67  http://www.reddit.com/r/Showerthoughts/comment...           NaN  \n",
       "\n",
       "[5 rows x 21 columns]"
      ]
     },
     "execution_count": 2,
     "metadata": {},
     "output_type": "execute_result"
    }
   ],
   "source": [
    "shower_dp = 'data/Showerthoughts.csv'\n",
    "shower_data = pd.read_csv(shower_dp,header=0)\n",
    "shower_data.head()"
   ]
  },
  {
   "cell_type": "code",
   "execution_count": 3,
   "id": "78339e9e-ae94-4856-bbce-111f964aed5d",
   "metadata": {},
   "outputs": [],
   "source": [
    "shower_data = shower_data.drop(['domain', 'id','permalink', 'over_18','link_flair_css_class',\n",
    "       'author_flair_css_class', 'selftext','thumbnail', 'name', 'url', 'link_flair_text','distinguished'], axis='columns')\n",
    "\n",
    "shower_data[\"engagement\"] = shower_data[\"ups\"] + shower_data[\"downs\"] + shower_data[\"num_comments\"]"
   ]
  },
  {
   "cell_type": "code",
   "execution_count": 4,
   "id": "1ad95481-def4-4ab0-8266-b94a55078869",
   "metadata": {},
   "outputs": [],
   "source": [
    "tweets = shower_data['title']\n",
    "\n",
    "targets = np.array(shower_data['ups'])"
   ]
  },
  {
   "cell_type": "code",
   "execution_count": 5,
   "id": "05457bb0-5509-42ca-af9b-1c9b80970552",
   "metadata": {},
   "outputs": [
    {
     "data": {
      "text/plain": [
       "array([[  0,   0,   0, ...,  23, 157,  74],\n",
       "       [  0,   5,  95, ..., 102,  63, 817],\n",
       "       [  0,   0,   0, ...,   1,  59, 106],\n",
       "       ...,\n",
       "       [  0,   0,   0, ...,   3,  46, 236],\n",
       "       [  0,   0,   0, ...,   2, 103, 204],\n",
       "       [  0,   0,   0, ...,  17,  77, 209]], dtype=int32)"
      ]
     },
     "execution_count": 5,
     "metadata": {},
     "output_type": "execute_result"
    }
   ],
   "source": [
    "from tensorflow import keras\n",
    "from tensorflow.keras.preprocessing.sequence import pad_sequences\n",
    "from tensorflow.keras.preprocessing.text import Tokenizer\n",
    "\n",
    " # config values// Beginning of word embeddings\n",
    "embed_size = 300 # how big is each word vector\n",
    "max_features = 50000 # how many unique words to use (i.e num rows in embedding vector)\n",
    "maxlen = 25 # max number of words in a question to use\n",
    "\n",
    "\n",
    "tokenizer = tf.keras.preprocessing.text.Tokenizer(num_words=max_features)\n",
    "tokenizer.fit_on_texts(tweets)\n",
    "tweets = tokenizer.texts_to_sequences(tweets)\n",
    "\n",
    "\n",
    "tweets = pad_sequences(tweets, maxlen=maxlen)\n",
    "tweets"
   ]
  },
  {
   "cell_type": "code",
   "execution_count": 37,
   "id": "77985027-a67c-463b-977b-dd88054c2464",
   "metadata": {
    "tags": []
   },
   "outputs": [],
   "source": [
    "shower_data['embedded_titles'] = pd.Series(tweets.tolist())\n",
    "\n",
    "features = shower_data[['downs', 'num_comments', 'score', 'embedded_titles']]\n",
    "shower_data['embedded_titles'].iloc[25]\n",
    "features_notTitle = shower_data[['downs', 'num_comments']]"
   ]
  },
  {
   "cell_type": "code",
   "execution_count": 38,
   "id": "3c875154-6fcb-42ed-9e11-cdb70bf58fe8",
   "metadata": {
    "tags": []
   },
   "outputs": [],
   "source": [
    "targets\n",
    "def make_target_buckets(targets):\n",
    "    new_targets = []\n",
    "    for t in targets:\n",
    "        if t > 400:\n",
    "            new_targets.append(4)\n",
    "        elif t > 150:\n",
    "            new_targets.append(3)\n",
    "        elif t > 100:\n",
    "            new_targets.append(2) \n",
    "        else:\n",
    "            new_targets.append(1)\n",
    "    return new_targets\n",
    "targ_buckets = make_target_buckets(targets)\n",
    "        "
   ]
  },
  {
   "cell_type": "code",
   "execution_count": 39,
   "id": "f3d62006-4b48-4393-8986-bec186e83df2",
   "metadata": {
    "tags": []
   },
   "outputs": [],
   "source": [
    "# from sklearn.preprocessing import MinMaxScaler\n",
    "# scaler = MinMaxScaler()\n",
    "# scaler.fit(features)\n",
    "# features = scaler.transform(features)\n"
   ]
  },
  {
   "cell_type": "code",
   "execution_count": 40,
   "id": "c05e0b96-215c-401f-9083-561c98e0d2d4",
   "metadata": {},
   "outputs": [],
   "source": [
    "X_train, X_test, y_train, y_test = train_test_split(features_notTitle, targ_buckets, test_size=.2, train_size=.8, random_state=None, shuffle=True, stratify=None)\n"
   ]
  },
  {
   "cell_type": "code",
   "execution_count": 41,
   "id": "21f25277-e114-4bb3-9531-cb02f5db3fa3",
   "metadata": {},
   "outputs": [
    {
     "data": {
      "text/plain": [
       "0.63"
      ]
     },
     "execution_count": 41,
     "metadata": {},
     "output_type": "execute_result"
    }
   ],
   "source": [
    "from sklearn.linear_model import LogisticRegression\n",
    "logReg = LogisticRegression(random_state=0).fit(X_train, y_train)\n",
    "logReg.score(X_test, y_test)"
   ]
  },
  {
   "cell_type": "code",
   "execution_count": 42,
   "id": "cfaed23d-2959-4ea4-a7b9-d649a06848af",
   "metadata": {},
   "outputs": [],
   "source": [
    "from sklearn.preprocessing import PolynomialFeatures\n",
    "poly = PolynomialFeatures(2)\n",
    "features_poly = poly.fit_transform(features_notTitle)"
   ]
  },
  {
   "cell_type": "code",
   "execution_count": 43,
   "id": "2fd8c106-8a5f-47da-b8fa-7efd95f048d8",
   "metadata": {},
   "outputs": [
    {
     "name": "stdout",
     "output_type": "stream",
     "text": [
      "0.605\n"
     ]
    },
    {
     "data": {
      "text/plain": [
       "<AxesSubplot:>"
      ]
     },
     "execution_count": 43,
     "metadata": {},
     "output_type": "execute_result"
    },
    {
     "data": {
      "image/png": "[encoded data removed]",
      "text/plain": [
       "<Figure size 432x288 with 2 Axes>"
      ]
     },
     "metadata": {
      "needs_background": "light"
     },
     "output_type": "display_data"
    }
   ],
   "source": [
    "#RFC\n",
    "from sklearn.metrics import classification_report\n",
    "from sklearn.metrics import confusion_matrix\n",
    "from sklearn.ensemble import RandomForestClassifier\n",
    "from sklearn.metrics import accuracy_score\n",
    "\n",
    "import seaborn as sns\n",
    "ax= plt.subplot()\n",
    "\n",
    "clf = RandomForestClassifier(max_depth=None, random_state=0)\n",
    "clf.fit(X_train, y_train)\n",
    "preds2 = clf.predict(X_test)\n",
    "print(accuracy_score(y_test, preds2))\n",
    "\n",
    "rfcCM = confusion_matrix(y_test, preds2)\n",
    "sns.heatmap(rfcCM, annot=True)"
   ]
  },
  {
   "cell_type": "code",
   "execution_count": null,
   "id": "2d9e3a8c-df02-4388-9a62-8c7a14da98ba",
   "metadata": {},
   "outputs": [],
   "source": []
  }
 ],
 "metadata": {
  "kernelspec": {
   "display_name": "Python 3.8",
   "language": "python",
   "name": "python3"
  },
  "language_info": {
   "codemirror_mode": {
    "name": "ipython",
    "version": 3
   },
   "file_extension": ".py",
   "mimetype": "text/x-python",
   "name": "python",
   "nbconvert_exporter": "python",
   "pygments_lexer": "ipython3",
   "version": "3.8.6"
  }
 },
 "nbformat": 4,
 "nbformat_minor": 5
}
