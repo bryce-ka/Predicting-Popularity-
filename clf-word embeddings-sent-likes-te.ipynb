{
 "cells": [
  {
   "cell_type": "code",
   "execution_count": 1,
   "id": "c030ea52-b9ec-416d-8883-f1e6ee3c800e",
   "metadata": {},
   "outputs": [
    {
     "name": "stderr",
     "output_type": "stream",
     "text": [
      "2023-04-27 14:52:43.859006: I tensorflow/core/util/port.cc:110] oneDNN custom operations are on. You may see slightly different numerical results due to floating-point round-off errors from different computation orders. To turn them off, set the environment variable `TF_ENABLE_ONEDNN_OPTS=0`.\n",
      "2023-04-27 14:52:44.761319: I tensorflow/core/platform/cpu_feature_guard.cc:182] This TensorFlow binary is optimized to use available CPU instructions in performance-critical operations.\n",
      "To enable the following instructions: AVX2 AVX512F AVX512_VNNI FMA, in other operations, rebuild TensorFlow with the appropriate compiler flags.\n",
      "2023-04-27 14:52:47.881271: W tensorflow/compiler/tf2tensorrt/utils/py_utils.cc:38] TF-TRT Warning: Could not find TensorRT\n"
     ]
    }
   ],
   "source": [
    "import pandas as pd\n",
    "import numpy as np\n",
    "import tensorflow as tf\n",
    "import matplotlib.pyplot as plt\n",
    "from sklearn.model_selection import train_test_split\n",
    "import nltk\n",
    "import statistics\n",
    "from sklearn.metrics import confusion_matrix\n",
    "import seaborn as sns"
   ]
  },
  {
   "cell_type": "code",
   "execution_count": 2,
   "id": "557d1b95-f29d-4093-a4e7-2f8b0a8ddcc5",
   "metadata": {
    "tags": []
   },
   "outputs": [],
   "source": [
    "shower_dp = 'data/Showerthoughts.csv'\n",
    "shower_data = pd.read_csv(shower_dp,header=0)"
   ]
  },
  {
   "cell_type": "code",
   "execution_count": 3,
   "id": "78339e9e-ae94-4856-bbce-111f964aed5d",
   "metadata": {},
   "outputs": [],
   "source": [
    "shower_data = shower_data.drop(['domain', 'score', 'domain', 'permalink', 'over_18','link_flair_css_class',\n",
    "       'author_flair_css_class', 'selftext','thumbnail', 'name', 'url', 'subreddit_id', 'edited', 'is_self', 'link_flair_text','distinguished','author_flair_css_class' ], axis='columns')\n",
    "\n",
    "shower_data[\"engagement\"] = shower_data[\"ups\"] + shower_data[\"downs\"] + shower_data[\"num_comments\"]"
   ]
  },
  {
   "cell_type": "code",
   "execution_count": 4,
   "id": "1ad95481-def4-4ab0-8266-b94a55078869",
   "metadata": {},
   "outputs": [],
   "source": [
    "tweets = shower_data['title']\n",
    "\n",
    "targets = np.array(shower_data['ups'])\n",
    "eng_targets = shower_data[\"engagement\"]"
   ]
  },
  {
   "cell_type": "code",
   "execution_count": 5,
   "id": "05457bb0-5509-42ca-af9b-1c9b80970552",
   "metadata": {},
   "outputs": [
    {
     "name": "stdout",
     "output_type": "stream",
     "text": [
      "1000\n"
     ]
    }
   ],
   "source": [
    "from tensorflow import keras\n",
    "from tensorflow.keras.preprocessing.sequence import pad_sequences\n",
    "from tensorflow.keras.preprocessing.text import Tokenizer\n",
    "\n",
    " # config values// Beginning of word embeddings\n",
    "embed_size = 300 # how big is each word vector\n",
    "max_features = 50000 # how many unique words to use (i.e num rows in embedding vector)\n",
    "maxlen = 25 # max number of words in a question to use\n",
    "\n",
    "\n",
    "tokenizer = tf.keras.preprocessing.text.Tokenizer(num_words=max_features)\n",
    "tokenizer.fit_on_texts(tweets)\n",
    "tweets = tokenizer.texts_to_sequences(tweets)\n",
    "\n",
    "\n",
    "tweets = pad_sequences(tweets, maxlen=maxlen)\n",
    "print(len(tweets))\n",
    "text_df = pd.DataFrame(tweets, shower_data[\"id\"] )\n",
    "text_df=text_df.rename(columns={1:'1',              2:\"2\",              3:\"3\",              4:\"4\",\n",
    "                    5:\"5\",              6:\"6\",              7:\"7\",              8:\"8\",\n",
    "                    9:\"9\",             10:\"10\",             11:\"11\",             12:\"12\",\n",
    "                   13:\"13\",             14:\"14\",             15:\"15\",             16:\"16\",\n",
    "                   17:\"17\",             18:\"18\",             19:\"19\",             20:\"20\",\n",
    "                   21:\"21\",             22:\"22\",             23:\"23\",             24:\"24\"})\n",
    "shower_data = shower_data.merge(text_df, how='left', on='id')\n"
   ]
  },
  {
   "cell_type": "code",
   "execution_count": 6,
   "id": "b3a1657b-438c-4d04-8bb9-5273c253a561",
   "metadata": {},
   "outputs": [],
   "source": [
    "import nltk.sentiment \n",
    "from nltk.sentiment import SentimentIntensityAnalyzer\n",
    "sia = SentimentIntensityAnalyzer()"
   ]
  },
  {
   "cell_type": "code",
   "execution_count": 7,
   "id": "45088937-b81f-4257-a2c3-a31e95727784",
   "metadata": {},
   "outputs": [],
   "source": [
    "def sentiment_to_df(titles):\n",
    "    neg = []\n",
    "    neu = []\n",
    "    pos = []\n",
    "    for t in titles:\n",
    "        scores = sia.polarity_scores(t)\n",
    "        neg.append(scores['neg'])\n",
    "        neu.append(scores['neu'])\n",
    "        pos.append(scores['pos'])\n",
    "        \n",
    "    return neg, neu, pos"
   ]
  },
  {
   "cell_type": "code",
   "execution_count": 8,
   "id": "83c5b119-5948-4af7-b6d4-d7cc82290d7a",
   "metadata": {},
   "outputs": [],
   "source": [
    "neg, neu, pos = sentiment_to_df(shower_data['title'])\n",
    "shower_data['neg'] = neg\n",
    "shower_data['neu'] = neu\n",
    "shower_data['pos'] = pos"
   ]
  },
  {
   "cell_type": "code",
   "execution_count": 9,
   "id": "405f61e0-0e5e-4c1f-b253-3c260787820a",
   "metadata": {},
   "outputs": [
    {
     "data": {
      "text/plain": [
       "Index([ 'created_utc',           'id',        'title',          'ups',\n",
       "              'downs', 'num_comments',   'engagement',              0,\n",
       "                  '1',            '2',            '3',            '4',\n",
       "                  '5',            '6',            '7',            '8',\n",
       "                  '9',           '10',           '11',           '12',\n",
       "                 '13',           '14',           '15',           '16',\n",
       "                 '17',           '18',           '19',           '20',\n",
       "                 '21',           '22',           '23',           '24',\n",
       "                'neg',          'neu',          'pos'],\n",
       "      dtype='object')"
      ]
     },
     "execution_count": 9,
     "metadata": {},
     "output_type": "execute_result"
    }
   ],
   "source": [
    "shower_data.columns"
   ]
  },
  {
   "cell_type": "code",
   "execution_count": 10,
   "id": "4d6d1ed2-3a37-42b3-a804-ddfce1ead3ab",
   "metadata": {},
   "outputs": [
    {
     "name": "stdout",
     "output_type": "stream",
     "text": [
      "Index(['created_utc',             0,           '1',           '2',\n",
      "                 '3',           '4',           '5',           '6',\n",
      "                 '7',           '8',           '9',          '10',\n",
      "                '11',          '12',          '13',          '14',\n",
      "                '15',          '16',          '17',          '18',\n",
      "                '19',          '20',          '21',          '22',\n",
      "                '23',          '24',         'neg',         'neu',\n",
      "               'pos'],\n",
      "      dtype='object')\n"
     ]
    }
   ],
   "source": [
    "shower_data = shower_data.drop((['id']), axis='columns')\n",
    "\n",
    "features = shower_data.drop(['title','ups', 'downs', 'num_comments', 'engagement'], axis='columns')\n",
    "\n",
    "print(features.columns)"
   ]
  },
  {
   "cell_type": "code",
   "execution_count": 11,
   "id": "77985027-a67c-463b-977b-dd88054c2464",
   "metadata": {
    "tags": []
   },
   "outputs": [
    {
     "name": "stdout",
     "output_type": "stream",
     "text": [
      "0.25    139.00\n",
      "0.50    220.00\n",
      "0.75    479.25\n",
      "Name: engagement, dtype: float64\n"
     ]
    }
   ],
   "source": [
    "import matplotlib.pyplot as plt\n",
    "print(eng_targets.quantile([0.25,0.5,0.75]))"
   ]
  },
  {
   "cell_type": "code",
   "execution_count": 12,
   "id": "390b419e-c22a-4a16-add9-b183c89af3f3",
   "metadata": {},
   "outputs": [],
   "source": [
    "targets\n",
    "def make_target_buckets(targets):\n",
    "    new_targets = []\n",
    "    for t in targets:\n",
    "        if t > 479:\n",
    "            new_targets.append(4)\n",
    "        elif t > 220:\n",
    "            new_targets.append(3)\n",
    "        elif t > 139.0:\n",
    "            new_targets.append(2) \n",
    "        else:\n",
    "            new_targets.append(1)\n",
    "    return new_targets\n",
    "stat_targ_buckets = make_target_buckets(eng_targets)\n"
   ]
  },
  {
   "cell_type": "code",
   "execution_count": 13,
   "id": "3c6dbf41-b610-4849-8030-193df766ede5",
   "metadata": {},
   "outputs": [
    {
     "data": {
      "text/plain": [
       "(array([251, 250, 249, 250]), array([1, 2, 3, 4, 5]))"
      ]
     },
     "execution_count": 13,
     "metadata": {},
     "output_type": "execute_result"
    }
   ],
   "source": [
    "r = [1,2,3,4, 5]\n",
    "np.histogram(stat_targ_buckets, bins=r)\n",
    "# 32.7% dummy model accuracy "
   ]
  },
  {
   "cell_type": "code",
   "execution_count": 14,
   "id": "3c875154-6fcb-42ed-9e11-cdb70bf58fe8",
   "metadata": {
    "tags": []
   },
   "outputs": [],
   "source": [
    "# test=test\n",
    "X_train, X_val, y_train, y_val = train_test_split(features, stat_targ_buckets, test_size=.2, train_size=.8, random_state=None, shuffle=True, stratify=None)\n",
    "# test = val\n",
    "statX_train, statX_test, staty_train, staty_test = train_test_split(X_train, y_train, test_size=.2, train_size=.8, random_state=None, shuffle=True, stratify=None)\n"
   ]
  },
  {
   "cell_type": "code",
   "execution_count": 15,
   "id": "f3d62006-4b48-4393-8986-bec186e83df2",
   "metadata": {
    "tags": []
   },
   "outputs": [
    {
     "data": {
      "text/plain": [
       "Index(['created_utc',             0,           '1',           '2',\n",
       "                 '3',           '4',           '5',           '6',\n",
       "                 '7',           '8',           '9',          '10',\n",
       "                '11',          '12',          '13',          '14',\n",
       "                '15',          '16',          '17',          '18',\n",
       "                '19',          '20',          '21',          '22',\n",
       "                '23',          '24',         'neg',         'neu',\n",
       "               'pos'],\n",
       "      dtype='object')"
      ]
     },
     "execution_count": 15,
     "metadata": {},
     "output_type": "execute_result"
    }
   ],
   "source": [
    "# from sklearn.preprocessing import MinMaxScaler\n",
    "# scaler = MinMaxScaler()\n",
    "# scaler.fit(features)\n",
    "# features = scaler.transform(features)\n",
    "features.columns"
   ]
  },
  {
   "cell_type": "code",
   "execution_count": 16,
   "id": "c05e0b96-215c-401f-9083-561c98e0d2d4",
   "metadata": {},
   "outputs": [],
   "source": [
    "# test=test\n",
    "X_train, X_val, y_train, y_val = train_test_split(features, stat_targ_buckets, test_size=.2, train_size=.8, random_state=None, shuffle=True, stratify=None)\n",
    "# test = val\n",
    "statX_train, statX_test, staty_train, staty_test = train_test_split(X_train, y_train, test_size=.2, train_size=.8, random_state=None, shuffle=True, stratify=None)\n"
   ]
  },
  {
   "cell_type": "code",
   "execution_count": 17,
   "id": "21f25277-e114-4bb3-9531-cb02f5db3fa3",
   "metadata": {},
   "outputs": [
    {
     "name": "stdout",
     "output_type": "stream",
     "text": [
      "0.1875\n"
     ]
    },
    {
     "name": "stderr",
     "output_type": "stream",
     "text": [
      "/opt/pub/eb/apps/all/DavidsonJupyter/2021-common-GCCcore-10.2.0/lib/python3.8/site-packages/sklearn/utils/validation.py:1858: FutureWarning: Feature names only support names that are all strings. Got feature names with dtypes: ['int', 'str']. An error will be raised in 1.2.\n",
      "  warnings.warn(\n",
      "/opt/pub/eb/apps/all/DavidsonJupyter/2021-common-GCCcore-10.2.0/lib/python3.8/site-packages/sklearn/utils/validation.py:1858: FutureWarning: Feature names only support names that are all strings. Got feature names with dtypes: ['int', 'str']. An error will be raised in 1.2.\n",
      "  warnings.warn(\n",
      "/opt/pub/eb/apps/all/DavidsonJupyter/2021-common-GCCcore-10.2.0/lib/python3.8/site-packages/sklearn/utils/validation.py:1858: FutureWarning: Feature names only support names that are all strings. Got feature names with dtypes: ['int', 'str']. An error will be raised in 1.2.\n",
      "  warnings.warn(\n"
     ]
    },
    {
     "data": {
      "text/plain": [
       "<AxesSubplot:>"
      ]
     },
     "execution_count": 17,
     "metadata": {},
     "output_type": "execute_result"
    },
    {
     "data": {
      "image/png": "[encoded data removed]",
      "text/plain": [
       "<Figure size 432x288 with 2 Axes>"
      ]
     },
     "metadata": {
      "needs_background": "light"
     },
     "output_type": "display_data"
    }
   ],
   "source": [
    "from sklearn.linear_model import LogisticRegression\n",
    "logReg = LogisticRegression(random_state=0).fit(statX_train, staty_train)\n",
    "preds = logReg.predict(statX_test)\n",
    "\n",
    "print(logReg.score(statX_test, staty_test))\n",
    "rfcCM = confusion_matrix(preds, staty_test)\n",
    "sns.heatmap(rfcCM, annot=True)"
   ]
  },
  {
   "cell_type": "code",
   "execution_count": 24,
   "id": "9d80d8f0-37f3-4f49-b555-86930ca8db68",
   "metadata": {},
   "outputs": [
    {
     "name": "stderr",
     "output_type": "stream",
     "text": [
      "/opt/pub/eb/apps/all/DavidsonJupyter/2021-common-GCCcore-10.2.0/lib/python3.8/site-packages/sklearn/utils/validation.py:1858: FutureWarning: Feature names only support names that are all strings. Got feature names with dtypes: ['int', 'str']. An error will be raised in 1.2.\n",
      "  warnings.warn(\n"
     ]
    },
    {
     "name": "stdout",
     "output_type": "stream",
     "text": [
      "0.725\n"
     ]
    },
    {
     "name": "stderr",
     "output_type": "stream",
     "text": [
      "/opt/pub/eb/apps/all/DavidsonJupyter/2021-common-GCCcore-10.2.0/lib/python3.8/site-packages/sklearn/utils/validation.py:1858: FutureWarning: Feature names only support names that are all strings. Got feature names with dtypes: ['int', 'str']. An error will be raised in 1.2.\n",
      "  warnings.warn(\n"
     ]
    },
    {
     "data": {
      "text/plain": [
       "<AxesSubplot:>"
      ]
     },
     "execution_count": 24,
     "metadata": {},
     "output_type": "execute_result"
    },
    {
     "data": {
      "image/png": "[encoded data removed]",
      "text/plain": [
       "<Figure size 432x288 with 2 Axes>"
      ]
     },
     "metadata": {
      "needs_background": "light"
     },
     "output_type": "display_data"
    }
   ],
   "source": [
    "from sklearn.metrics import classification_report\n",
    "from sklearn.metrics import confusion_matrix\n",
    "from sklearn.ensemble import RandomForestClassifier\n",
    "from sklearn.metrics import accuracy_score\n",
    "rfc = RandomForestClassifier(max_depth=None, random_state=36)\n",
    "rfc.fit(statX_train, staty_train)\n",
    "preds_rfc = rfc.predict(statX_test)\n",
    "print(accuracy_score(staty_test, preds_rfc))\n",
    "\n",
    "rfcCM = confusion_matrix(staty_test, preds_rfc)\n",
    "sns.heatmap(rfcCM, annot=True)"
   ]
  },
  {
   "cell_type": "code",
   "execution_count": 114,
   "id": "cfaed23d-2959-4ea4-a7b9-d649a06848af",
   "metadata": {},
   "outputs": [
    {
     "name": "stdout",
     "output_type": "stream",
     "text": [
      "0.21875\n"
     ]
    },
    {
     "name": "stderr",
     "output_type": "stream",
     "text": [
      "/opt/pub/eb/apps/all/DavidsonJupyter/2021-common-GCCcore-10.2.0/lib/python3.8/site-packages/sklearn/utils/validation.py:1858: FutureWarning: Feature names only support names that are all strings. Got feature names with dtypes: ['int', 'str']. An error will be raised in 1.2.\n",
      "  warnings.warn(\n",
      "/opt/pub/eb/apps/all/DavidsonJupyter/2021-common-GCCcore-10.2.0/lib/python3.8/site-packages/sklearn/utils/validation.py:1858: FutureWarning: Feature names only support names that are all strings. Got feature names with dtypes: ['int', 'str']. An error will be raised in 1.2.\n",
      "  warnings.warn(\n"
     ]
    },
    {
     "data": {
      "text/plain": [
       "<AxesSubplot:>"
      ]
     },
     "execution_count": 114,
     "metadata": {},
     "output_type": "execute_result"
    },
    {
     "data": {
      "image/png": "[encoded data removed]",
      "text/plain": [
       "<Figure size 432x288 with 2 Axes>"
      ]
     },
     "metadata": {
      "needs_background": "light"
     },
     "output_type": "display_data"
    }
   ],
   "source": [
    "from sklearn.svm import SVC\n",
    "clf= SVC(gamma='auto', C= 1, degree = 3, kernel = \"rbf\")\n",
    "clf.fit(statX_train, staty_train)\n",
    "\n",
    "preds2 = clf.predict(statX_test)\n",
    "print(accuracy_score(staty_test, preds2))\n",
    "rfcCM = confusion_matrix(staty_test, preds2)\n",
    "sns.heatmap(rfcCM, annot=True)"
   ]
  },
  {
   "cell_type": "code",
   "execution_count": 116,
   "id": "35994552-7869-4a2c-a955-a0e304ab61e0",
   "metadata": {},
   "outputs": [
    {
     "name": "stdout",
     "output_type": "stream",
     "text": [
      "0.685\n"
     ]
    },
    {
     "name": "stderr",
     "output_type": "stream",
     "text": [
      "/opt/pub/eb/apps/all/DavidsonJupyter/2021-common-GCCcore-10.2.0/lib/python3.8/site-packages/sklearn/utils/validation.py:1858: FutureWarning: Feature names only support names that are all strings. Got feature names with dtypes: ['int', 'str']. An error will be raised in 1.2.\n",
      "  warnings.warn(\n"
     ]
    },
    {
     "data": {
      "text/plain": [
       "<AxesSubplot:>"
      ]
     },
     "execution_count": 116,
     "metadata": {},
     "output_type": "execute_result"
    },
    {
     "data": {
      "image/png": "[encoded data removed]",
      "text/plain": [
       "<Figure size 432x288 with 2 Axes>"
      ]
     },
     "metadata": {
      "needs_background": "light"
     },
     "output_type": "display_data"
    }
   ],
   "source": [
    "# test \n",
    "test = rfc.predict(X_val)\n",
    "print(accuracy_score(y_val, test))\n",
    "\n",
    "rfcCM = confusion_matrix(y_val, test)\n",
    "sns.heatmap(rfcCM, annot=True)"
   ]
  },
  {
   "cell_type": "code",
   "execution_count": null,
   "id": "961a1755-dbaf-46d9-9edd-006df84cf2b8",
   "metadata": {},
   "outputs": [],
   "source": []
  }
 ],
 "metadata": {
  "kernelspec": {
   "display_name": "Python 3.8",
   "language": "python",
   "name": "python3"
  },
  "language_info": {
   "codemirror_mode": {
    "name": "ipython",
    "version": 3
   },
   "file_extension": ".py",
   "mimetype": "text/x-python",
   "name": "python",
   "nbconvert_exporter": "python",
   "pygments_lexer": "ipython3",
   "version": "3.8.6"
  }
 },
 "nbformat": 4,
 "nbformat_minor": 5
}
