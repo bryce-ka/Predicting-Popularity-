{
 "cells": [
  {
   "cell_type": "code",
   "execution_count": 1,
   "id": "c030ea52-b9ec-416d-8883-f1e6ee3c800e",
   "metadata": {},
   "outputs": [
    {
     "name": "stderr",
     "output_type": "stream",
     "text": [
      "2023-04-26 09:22:16.053696: I tensorflow/core/util/port.cc:110] oneDNN custom operations are on. You may see slightly different numerical results due to floating-point round-off errors from different computation orders. To turn them off, set the environment variable `TF_ENABLE_ONEDNN_OPTS=0`.\n",
      "2023-04-26 09:22:16.102818: I tensorflow/core/platform/cpu_feature_guard.cc:182] This TensorFlow binary is optimized to use available CPU instructions in performance-critical operations.\n",
      "To enable the following instructions: AVX2 AVX512F AVX512_VNNI FMA, in other operations, rebuild TensorFlow with the appropriate compiler flags.\n",
      "2023-04-26 09:22:16.856209: W tensorflow/compiler/tf2tensorrt/utils/py_utils.cc:38] TF-TRT Warning: Could not find TensorRT\n"
     ]
    }
   ],
   "source": [
    "import pandas as pd\n",
    "import numpy as np\n",
    "import tensorflow as tf\n",
    "import matplotlib.pyplot as plt\n",
    "from sklearn.model_selection import train_test_split\n",
    "import nltk\n",
    "import statistics\n",
    "from sklearn.metrics import confusion_matrix\n",
    "import seaborn as sns"
   ]
  },
  {
   "cell_type": "code",
   "execution_count": 2,
   "id": "557d1b95-f29d-4093-a4e7-2f8b0a8ddcc5",
   "metadata": {
    "tags": []
   },
   "outputs": [
    {
     "name": "stderr",
     "output_type": "stream",
     "text": [
      "/tmp/ipykernel_1178360/953333257.py:4: FutureWarning: The frame.append method is deprecated and will be removed from pandas in a future version. Use pandas.concat instead.\n",
      "  shower_data = shower_data.append(pd.read_csv('data/todayilearned.csv', header=0))\n",
      "/tmp/ipykernel_1178360/953333257.py:5: FutureWarning: The frame.append method is deprecated and will be removed from pandas in a future version. Use pandas.concat instead.\n",
      "  shower_data = shower_data.append(pd.read_csv('data/movies.csv', header=0))\n",
      "/tmp/ipykernel_1178360/953333257.py:6: FutureWarning: The frame.append method is deprecated and will be removed from pandas in a future version. Use pandas.concat instead.\n",
      "  shower_data = shower_data.append(pd.read_csv('data/Jokes.csv', header=0))\n"
     ]
    },
    {
     "data": {
      "text/html": [
       "<div>\n",
       "<style scoped>\n",
       "    .dataframe tbody tr th:only-of-type {\n",
       "        vertical-align: middle;\n",
       "    }\n",
       "\n",
       "    .dataframe tbody tr th {\n",
       "        vertical-align: top;\n",
       "    }\n",
       "\n",
       "    .dataframe thead th {\n",
       "        text-align: right;\n",
       "    }\n",
       "</style>\n",
       "<table border=\"1\" class=\"dataframe\">\n",
       "  <thead>\n",
       "    <tr style=\"text-align: right;\">\n",
       "      <th></th>\n",
       "      <th>created_utc</th>\n",
       "      <th>score</th>\n",
       "      <th>domain</th>\n",
       "      <th>id</th>\n",
       "      <th>title</th>\n",
       "      <th>ups</th>\n",
       "      <th>downs</th>\n",
       "      <th>num_comments</th>\n",
       "      <th>permalink</th>\n",
       "      <th>selftext</th>\n",
       "      <th>...</th>\n",
       "      <th>over_18</th>\n",
       "      <th>thumbnail</th>\n",
       "      <th>subreddit_id</th>\n",
       "      <th>edited</th>\n",
       "      <th>link_flair_css_class</th>\n",
       "      <th>author_flair_css_class</th>\n",
       "      <th>is_self</th>\n",
       "      <th>name</th>\n",
       "      <th>url</th>\n",
       "      <th>distinguished</th>\n",
       "    </tr>\n",
       "  </thead>\n",
       "  <tbody>\n",
       "    <tr>\n",
       "      <th>0</th>\n",
       "      <td>1.372964e+09</td>\n",
       "      <td>2785</td>\n",
       "      <td>self.Showerthoughts</td>\n",
       "      <td>1hncvt</td>\n",
       "      <td>If Hillary Clinton wins in 2016, it will be th...</td>\n",
       "      <td>4750</td>\n",
       "      <td>1965</td>\n",
       "      <td>265</td>\n",
       "      <td>http://www.reddit.com/r/Showerthoughts/comment...</td>\n",
       "      <td>NaN</td>\n",
       "      <td>...</td>\n",
       "      <td>False</td>\n",
       "      <td>NaN</td>\n",
       "      <td>t5_2szyo</td>\n",
       "      <td>False</td>\n",
       "      <td>NaN</td>\n",
       "      <td>NaN</td>\n",
       "      <td>True</td>\n",
       "      <td>t3_1hncvt</td>\n",
       "      <td>http://www.reddit.com/r/Showerthoughts/comment...</td>\n",
       "      <td>NaN</td>\n",
       "    </tr>\n",
       "    <tr>\n",
       "      <th>1</th>\n",
       "      <td>1.372606e+09</td>\n",
       "      <td>2488</td>\n",
       "      <td>self.Showerthoughts</td>\n",
       "      <td>1hd8in</td>\n",
       "      <td>I am just a penis. The rest of me is just ther...</td>\n",
       "      <td>4011</td>\n",
       "      <td>1523</td>\n",
       "      <td>162</td>\n",
       "      <td>http://www.reddit.com/r/Showerthoughts/comment...</td>\n",
       "      <td>NaN</td>\n",
       "      <td>...</td>\n",
       "      <td>False</td>\n",
       "      <td>NaN</td>\n",
       "      <td>t5_2szyo</td>\n",
       "      <td>False</td>\n",
       "      <td>NaN</td>\n",
       "      <td>NaN</td>\n",
       "      <td>True</td>\n",
       "      <td>t3_1hd8in</td>\n",
       "      <td>http://www.reddit.com/r/Showerthoughts/comment...</td>\n",
       "      <td>NaN</td>\n",
       "    </tr>\n",
       "    <tr>\n",
       "      <th>2</th>\n",
       "      <td>1.361920e+09</td>\n",
       "      <td>2387</td>\n",
       "      <td>self.Showerthoughts</td>\n",
       "      <td>19aft0</td>\n",
       "      <td>A TV channel where all the shows are set in th...</td>\n",
       "      <td>2558</td>\n",
       "      <td>171</td>\n",
       "      <td>77</td>\n",
       "      <td>http://www.reddit.com/r/Showerthoughts/comment...</td>\n",
       "      <td>You could have crime drama's, sitcoms, science...</td>\n",
       "      <td>...</td>\n",
       "      <td>False</td>\n",
       "      <td>NaN</td>\n",
       "      <td>t5_2szyo</td>\n",
       "      <td>False</td>\n",
       "      <td>NaN</td>\n",
       "      <td>NaN</td>\n",
       "      <td>True</td>\n",
       "      <td>t3_19aft0</td>\n",
       "      <td>http://www.reddit.com/r/Showerthoughts/comment...</td>\n",
       "      <td>NaN</td>\n",
       "    </tr>\n",
       "    <tr>\n",
       "      <th>3</th>\n",
       "      <td>1.370793e+09</td>\n",
       "      <td>2038</td>\n",
       "      <td>self.Showerthoughts</td>\n",
       "      <td>1fzgzv</td>\n",
       "      <td>If the oldest person on earth is 116 years old...</td>\n",
       "      <td>2559</td>\n",
       "      <td>521</td>\n",
       "      <td>71</td>\n",
       "      <td>http://www.reddit.com/r/Showerthoughts/comment...</td>\n",
       "      <td>NaN</td>\n",
       "      <td>...</td>\n",
       "      <td>False</td>\n",
       "      <td>NaN</td>\n",
       "      <td>t5_2szyo</td>\n",
       "      <td>False</td>\n",
       "      <td>NaN</td>\n",
       "      <td>NaN</td>\n",
       "      <td>True</td>\n",
       "      <td>t3_1fzgzv</td>\n",
       "      <td>http://www.reddit.com/r/Showerthoughts/comment...</td>\n",
       "      <td>NaN</td>\n",
       "    </tr>\n",
       "    <tr>\n",
       "      <th>4</th>\n",
       "      <td>1.371846e+09</td>\n",
       "      <td>2007</td>\n",
       "      <td>self.Showerthoughts</td>\n",
       "      <td>1gte67</td>\n",
       "      <td>If Kanye and Kim's child's name is North West,...</td>\n",
       "      <td>2687</td>\n",
       "      <td>680</td>\n",
       "      <td>76</td>\n",
       "      <td>http://www.reddit.com/r/Showerthoughts/comment...</td>\n",
       "      <td>NaN</td>\n",
       "      <td>...</td>\n",
       "      <td>False</td>\n",
       "      <td>NaN</td>\n",
       "      <td>t5_2szyo</td>\n",
       "      <td>False</td>\n",
       "      <td>NaN</td>\n",
       "      <td>NaN</td>\n",
       "      <td>True</td>\n",
       "      <td>t3_1gte67</td>\n",
       "      <td>http://www.reddit.com/r/Showerthoughts/comment...</td>\n",
       "      <td>NaN</td>\n",
       "    </tr>\n",
       "    <tr>\n",
       "      <th>...</th>\n",
       "      <td>...</td>\n",
       "      <td>...</td>\n",
       "      <td>...</td>\n",
       "      <td>...</td>\n",
       "      <td>...</td>\n",
       "      <td>...</td>\n",
       "      <td>...</td>\n",
       "      <td>...</td>\n",
       "      <td>...</td>\n",
       "      <td>...</td>\n",
       "      <td>...</td>\n",
       "      <td>...</td>\n",
       "      <td>...</td>\n",
       "      <td>...</td>\n",
       "      <td>...</td>\n",
       "      <td>...</td>\n",
       "      <td>...</td>\n",
       "      <td>...</td>\n",
       "      <td>...</td>\n",
       "      <td>...</td>\n",
       "      <td>...</td>\n",
       "    </tr>\n",
       "    <tr>\n",
       "      <th>995</th>\n",
       "      <td>1.335629e+09</td>\n",
       "      <td>651</td>\n",
       "      <td>self.Jokes</td>\n",
       "      <td>sww0e</td>\n",
       "      <td>My wife told me a joke that I actually laughed...</td>\n",
       "      <td>1058</td>\n",
       "      <td>407</td>\n",
       "      <td>66</td>\n",
       "      <td>http://www.reddit.com/r/Jokes/comments/sww0e/m...</td>\n",
       "      <td>A women was in bed with her husbands best frie...</td>\n",
       "      <td>...</td>\n",
       "      <td>False</td>\n",
       "      <td>NaN</td>\n",
       "      <td>t5_2qh72</td>\n",
       "      <td>False</td>\n",
       "      <td>NaN</td>\n",
       "      <td>NaN</td>\n",
       "      <td>True</td>\n",
       "      <td>t3_sww0e</td>\n",
       "      <td>http://www.reddit.com/r/Jokes/comments/sww0e/m...</td>\n",
       "      <td>NaN</td>\n",
       "    </tr>\n",
       "    <tr>\n",
       "      <th>996</th>\n",
       "      <td>1.371479e+09</td>\n",
       "      <td>649</td>\n",
       "      <td>self.Jokes</td>\n",
       "      <td>1gim8s</td>\n",
       "      <td>I once knew a soldier who suffered through bot...</td>\n",
       "      <td>812</td>\n",
       "      <td>163</td>\n",
       "      <td>19</td>\n",
       "      <td>http://www.reddit.com/r/Jokes/comments/1gim8s/...</td>\n",
       "      <td>He was a seasoned veteran.</td>\n",
       "      <td>...</td>\n",
       "      <td>False</td>\n",
       "      <td>NaN</td>\n",
       "      <td>t5_2qh72</td>\n",
       "      <td>False</td>\n",
       "      <td>NaN</td>\n",
       "      <td>NaN</td>\n",
       "      <td>True</td>\n",
       "      <td>t3_1gim8s</td>\n",
       "      <td>http://www.reddit.com/r/Jokes/comments/1gim8s/...</td>\n",
       "      <td>NaN</td>\n",
       "    </tr>\n",
       "    <tr>\n",
       "      <th>997</th>\n",
       "      <td>1.359162e+09</td>\n",
       "      <td>648</td>\n",
       "      <td>self.Jokes</td>\n",
       "      <td>17agcg</td>\n",
       "      <td>Golf with the boss</td>\n",
       "      <td>898</td>\n",
       "      <td>250</td>\n",
       "      <td>33</td>\n",
       "      <td>http://www.reddit.com/r/Jokes/comments/17agcg/...</td>\n",
       "      <td>A man and his boss skip work one weekday after...</td>\n",
       "      <td>...</td>\n",
       "      <td>False</td>\n",
       "      <td>NaN</td>\n",
       "      <td>t5_2qh72</td>\n",
       "      <td>False</td>\n",
       "      <td>NaN</td>\n",
       "      <td>NaN</td>\n",
       "      <td>True</td>\n",
       "      <td>t3_17agcg</td>\n",
       "      <td>http://www.reddit.com/r/Jokes/comments/17agcg/...</td>\n",
       "      <td>NaN</td>\n",
       "    </tr>\n",
       "    <tr>\n",
       "      <th>998</th>\n",
       "      <td>1.363655e+09</td>\n",
       "      <td>645</td>\n",
       "      <td>self.Jokes</td>\n",
       "      <td>1ak9w3</td>\n",
       "      <td>What would it be like to have world with out w...</td>\n",
       "      <td>938</td>\n",
       "      <td>293</td>\n",
       "      <td>42</td>\n",
       "      <td>http://www.reddit.com/r/Jokes/comments/1ak9w3/...</td>\n",
       "      <td>It would be a real pain in the ass</td>\n",
       "      <td>...</td>\n",
       "      <td>False</td>\n",
       "      <td>NaN</td>\n",
       "      <td>t5_2qh72</td>\n",
       "      <td>False</td>\n",
       "      <td>NaN</td>\n",
       "      <td>NaN</td>\n",
       "      <td>True</td>\n",
       "      <td>t3_1ak9w3</td>\n",
       "      <td>http://www.reddit.com/r/Jokes/comments/1ak9w3/...</td>\n",
       "      <td>NaN</td>\n",
       "    </tr>\n",
       "    <tr>\n",
       "      <th>999</th>\n",
       "      <td>1.360456e+09</td>\n",
       "      <td>648</td>\n",
       "      <td>self.Jokes</td>\n",
       "      <td>187ykz</td>\n",
       "      <td>Old sex life.</td>\n",
       "      <td>868</td>\n",
       "      <td>220</td>\n",
       "      <td>37</td>\n",
       "      <td>http://www.reddit.com/r/Jokes/comments/187ykz/...</td>\n",
       "      <td>An elderly woman goes to the doctor and asks h...</td>\n",
       "      <td>...</td>\n",
       "      <td>False</td>\n",
       "      <td>NaN</td>\n",
       "      <td>t5_2qh72</td>\n",
       "      <td>False</td>\n",
       "      <td>NaN</td>\n",
       "      <td>NaN</td>\n",
       "      <td>True</td>\n",
       "      <td>t3_187ykz</td>\n",
       "      <td>http://www.reddit.com/r/Jokes/comments/187ykz/...</td>\n",
       "      <td>NaN</td>\n",
       "    </tr>\n",
       "  </tbody>\n",
       "</table>\n",
       "<p>3999 rows × 21 columns</p>\n",
       "</div>"
      ],
      "text/plain": [
       "      created_utc  score               domain      id  \\\n",
       "0    1.372964e+09   2785  self.Showerthoughts  1hncvt   \n",
       "1    1.372606e+09   2488  self.Showerthoughts  1hd8in   \n",
       "2    1.361920e+09   2387  self.Showerthoughts  19aft0   \n",
       "3    1.370793e+09   2038  self.Showerthoughts  1fzgzv   \n",
       "4    1.371846e+09   2007  self.Showerthoughts  1gte67   \n",
       "..            ...    ...                  ...     ...   \n",
       "995  1.335629e+09    651           self.Jokes   sww0e   \n",
       "996  1.371479e+09    649           self.Jokes  1gim8s   \n",
       "997  1.359162e+09    648           self.Jokes  17agcg   \n",
       "998  1.363655e+09    645           self.Jokes  1ak9w3   \n",
       "999  1.360456e+09    648           self.Jokes  187ykz   \n",
       "\n",
       "                                                 title   ups  downs  \\\n",
       "0    If Hillary Clinton wins in 2016, it will be th...  4750   1965   \n",
       "1    I am just a penis. The rest of me is just ther...  4011   1523   \n",
       "2    A TV channel where all the shows are set in th...  2558    171   \n",
       "3    If the oldest person on earth is 116 years old...  2559    521   \n",
       "4    If Kanye and Kim's child's name is North West,...  2687    680   \n",
       "..                                                 ...   ...    ...   \n",
       "995  My wife told me a joke that I actually laughed...  1058    407   \n",
       "996  I once knew a soldier who suffered through bot...   812    163   \n",
       "997                                 Golf with the boss   898    250   \n",
       "998  What would it be like to have world with out w...   938    293   \n",
       "999                                      Old sex life.   868    220   \n",
       "\n",
       "     num_comments                                          permalink  \\\n",
       "0             265  http://www.reddit.com/r/Showerthoughts/comment...   \n",
       "1             162  http://www.reddit.com/r/Showerthoughts/comment...   \n",
       "2              77  http://www.reddit.com/r/Showerthoughts/comment...   \n",
       "3              71  http://www.reddit.com/r/Showerthoughts/comment...   \n",
       "4              76  http://www.reddit.com/r/Showerthoughts/comment...   \n",
       "..            ...                                                ...   \n",
       "995            66  http://www.reddit.com/r/Jokes/comments/sww0e/m...   \n",
       "996            19  http://www.reddit.com/r/Jokes/comments/1gim8s/...   \n",
       "997            33  http://www.reddit.com/r/Jokes/comments/17agcg/...   \n",
       "998            42  http://www.reddit.com/r/Jokes/comments/1ak9w3/...   \n",
       "999            37  http://www.reddit.com/r/Jokes/comments/187ykz/...   \n",
       "\n",
       "                                              selftext  ... over_18  \\\n",
       "0                                                  NaN  ...   False   \n",
       "1                                                  NaN  ...   False   \n",
       "2    You could have crime drama's, sitcoms, science...  ...   False   \n",
       "3                                                  NaN  ...   False   \n",
       "4                                                  NaN  ...   False   \n",
       "..                                                 ...  ...     ...   \n",
       "995  A women was in bed with her husbands best frie...  ...   False   \n",
       "996                         He was a seasoned veteran.  ...   False   \n",
       "997  A man and his boss skip work one weekday after...  ...   False   \n",
       "998                It would be a real pain in the ass   ...   False   \n",
       "999  An elderly woman goes to the doctor and asks h...  ...   False   \n",
       "\n",
       "     thumbnail subreddit_id edited link_flair_css_class  \\\n",
       "0          NaN     t5_2szyo  False                  NaN   \n",
       "1          NaN     t5_2szyo  False                  NaN   \n",
       "2          NaN     t5_2szyo  False                  NaN   \n",
       "3          NaN     t5_2szyo  False                  NaN   \n",
       "4          NaN     t5_2szyo  False                  NaN   \n",
       "..         ...          ...    ...                  ...   \n",
       "995        NaN     t5_2qh72  False                  NaN   \n",
       "996        NaN     t5_2qh72  False                  NaN   \n",
       "997        NaN     t5_2qh72  False                  NaN   \n",
       "998        NaN     t5_2qh72  False                  NaN   \n",
       "999        NaN     t5_2qh72  False                  NaN   \n",
       "\n",
       "    author_flair_css_class  is_self       name  \\\n",
       "0                      NaN     True  t3_1hncvt   \n",
       "1                      NaN     True  t3_1hd8in   \n",
       "2                      NaN     True  t3_19aft0   \n",
       "3                      NaN     True  t3_1fzgzv   \n",
       "4                      NaN     True  t3_1gte67   \n",
       "..                     ...      ...        ...   \n",
       "995                    NaN     True   t3_sww0e   \n",
       "996                    NaN     True  t3_1gim8s   \n",
       "997                    NaN     True  t3_17agcg   \n",
       "998                    NaN     True  t3_1ak9w3   \n",
       "999                    NaN     True  t3_187ykz   \n",
       "\n",
       "                                                   url distinguished  \n",
       "0    http://www.reddit.com/r/Showerthoughts/comment...           NaN  \n",
       "1    http://www.reddit.com/r/Showerthoughts/comment...           NaN  \n",
       "2    http://www.reddit.com/r/Showerthoughts/comment...           NaN  \n",
       "3    http://www.reddit.com/r/Showerthoughts/comment...           NaN  \n",
       "4    http://www.reddit.com/r/Showerthoughts/comment...           NaN  \n",
       "..                                                 ...           ...  \n",
       "995  http://www.reddit.com/r/Jokes/comments/sww0e/m...           NaN  \n",
       "996  http://www.reddit.com/r/Jokes/comments/1gim8s/...           NaN  \n",
       "997  http://www.reddit.com/r/Jokes/comments/17agcg/...           NaN  \n",
       "998  http://www.reddit.com/r/Jokes/comments/1ak9w3/...           NaN  \n",
       "999  http://www.reddit.com/r/Jokes/comments/187ykz/...           NaN  \n",
       "\n",
       "[3999 rows x 21 columns]"
      ]
     },
     "execution_count": 2,
     "metadata": {},
     "output_type": "execute_result"
    }
   ],
   "source": [
    "shower_dp = 'data/Showerthoughts.csv'\n",
    "shower_data = pd.read_csv(shower_dp,header=0)\n",
    "# shower_data = shower_data.append(pd.read_csv('data/worldnews.csv', header=0))\n",
    "shower_data = shower_data.append(pd.read_csv('data/todayilearned.csv', header=0))\n",
    "shower_data = shower_data.append(pd.read_csv('data/movies.csv', header=0))\n",
    "shower_data = shower_data.append(pd.read_csv('data/Jokes.csv', header=0))\n",
    "\n",
    "\n",
    "\n",
    "# shower_data.head()\n",
    "shower_data"
   ]
  },
  {
   "cell_type": "code",
   "execution_count": 3,
   "id": "78339e9e-ae94-4856-bbce-111f964aed5d",
   "metadata": {},
   "outputs": [],
   "source": [
    "shower_data = shower_data.drop(['domain', 'score', 'domain', 'permalink', 'over_18','link_flair_css_class',\n",
    "       'author_flair_css_class', 'selftext','thumbnail', 'name', 'url', 'subreddit_id', 'edited', 'is_self', 'link_flair_text','distinguished','author_flair_css_class' ], axis='columns')\n",
    "\n",
    "shower_data[\"engagement\"] = shower_data[\"ups\"] + shower_data[\"downs\"] + shower_data[\"num_comments\"]"
   ]
  },
  {
   "cell_type": "code",
   "execution_count": 4,
   "id": "1ad95481-def4-4ab0-8266-b94a55078869",
   "metadata": {},
   "outputs": [],
   "source": [
    "tweets = shower_data['title']\n",
    "\n",
    "targets = np.array(shower_data['ups'])\n",
    "eng_targets = np.array(shower_data[\"engagement\"])"
   ]
  },
  {
   "cell_type": "code",
   "execution_count": 5,
   "id": "05457bb0-5509-42ca-af9b-1c9b80970552",
   "metadata": {},
   "outputs": [
    {
     "name": "stdout",
     "output_type": "stream",
     "text": [
      "3999\n"
     ]
    }
   ],
   "source": [
    "from tensorflow import keras\n",
    "from tensorflow.keras.preprocessing.sequence import pad_sequences\n",
    "from tensorflow.keras.preprocessing.text import Tokenizer\n",
    "\n",
    " # config values// Beginning of word embeddings\n",
    "embed_size = 300 # how big is each word vector\n",
    "max_features = 50000 # how many unique words to use (i.e num rows in embedding vector)\n",
    "maxlen = 10 # max number of words in a question to use\n",
    "\n",
    "\n",
    "tokenizer = tf.keras.preprocessing.text.Tokenizer(num_words=max_features)\n",
    "tokenizer.fit_on_texts(tweets)\n",
    "tweets = tokenizer.texts_to_sequences(tweets)\n",
    "\n",
    "\n",
    "tweets = pad_sequences(tweets, maxlen=maxlen)\n",
    "print(len(tweets))\n",
    "text_df = pd.DataFrame(tweets, shower_data[\"id\"] )\n",
    "for col in text_df.columns:\n",
    "    text_df= text_df.rename(columns={col:str(col)})\n",
    "# text_df=text_df.rename(columns={1:'1',              2:\"2\",              3:\"3\",              4:\"4\",\n",
    "#                     5:\"5\",              6:\"6\",              7:\"7\",              8:\"8\",\n",
    "#                     9:\"9\",             10:\"10\",             11:\"11\",             12:\"12\",\n",
    "#                    13:\"13\",             14:\"14\",             15:\"15\",             16:\"16\",\n",
    "#                    17:\"17\",             18:\"18\",             19:\"19\",             20:\"20\",\n",
    "#                    21:\"21\",             22:\"22\",             23:\"23\",             24:\"24\"})\n",
    "shower_data = shower_data.merge(text_df, how='left', on='id')\n"
   ]
  },
  {
   "cell_type": "code",
   "execution_count": null,
   "id": "e2c4eb38-56a4-4909-8c05-13a54715821a",
   "metadata": {},
   "outputs": [],
   "source": []
  },
  {
   "cell_type": "code",
   "execution_count": 6,
   "id": "b3a1657b-438c-4d04-8bb9-5273c253a561",
   "metadata": {},
   "outputs": [],
   "source": [
    "import nltk.sentiment \n",
    "from nltk.sentiment import SentimentIntensityAnalyzer\n",
    "sia = SentimentIntensityAnalyzer()"
   ]
  },
  {
   "cell_type": "code",
   "execution_count": 7,
   "id": "45088937-b81f-4257-a2c3-a31e95727784",
   "metadata": {},
   "outputs": [],
   "source": [
    "def sentiment_to_df(titles):\n",
    "    neg = []\n",
    "    neu = []\n",
    "    pos = []\n",
    "    for t in titles:\n",
    "        scores = sia.polarity_scores(t)\n",
    "        neg.append(scores['neg'])\n",
    "        neu.append(scores['neu'])\n",
    "        pos.append(scores['pos'])\n",
    "        \n",
    "    return neg, neu, pos"
   ]
  },
  {
   "cell_type": "code",
   "execution_count": 8,
   "id": "83c5b119-5948-4af7-b6d4-d7cc82290d7a",
   "metadata": {},
   "outputs": [],
   "source": [
    "neg, neu, pos = sentiment_to_df(shower_data['title'])\n",
    "shower_data['neg'] = neg\n",
    "shower_data['neu'] = neu\n",
    "shower_data['pos'] = pos"
   ]
  },
  {
   "cell_type": "code",
   "execution_count": 9,
   "id": "405f61e0-0e5e-4c1f-b253-3c260787820a",
   "metadata": {},
   "outputs": [
    {
     "data": {
      "text/plain": [
       "Index(['created_utc', 'id', 'title', 'ups', 'downs', 'num_comments',\n",
       "       'engagement', '0', '1', '2', '3', '4', '5', '6', '7', '8', '9', 'neg',\n",
       "       'neu', 'pos'],\n",
       "      dtype='object')"
      ]
     },
     "execution_count": 9,
     "metadata": {},
     "output_type": "execute_result"
    }
   ],
   "source": [
    "shower_data.columns\n"
   ]
  },
  {
   "cell_type": "code",
   "execution_count": 10,
   "id": "77985027-a67c-463b-977b-dd88054c2464",
   "metadata": {
    "tags": []
   },
   "outputs": [
    {
     "name": "stdout",
     "output_type": "stream",
     "text": [
      "Index(['created_utc', '0', '1', '2', '3', '4', '5', '6', '7', '8', '9', 'neg',\n",
      "       'neu', 'pos'],\n",
      "      dtype='object')\n"
     ]
    }
   ],
   "source": [
    "shower_data = shower_data.drop((['id']), axis='columns')\n",
    "\n",
    "features = shower_data.drop(['title','ups', 'downs', 'num_comments', 'engagement'], axis='columns')\n",
    "\n",
    "print(features.columns)"
   ]
  },
  {
   "cell_type": "code",
   "execution_count": 11,
   "id": "390b419e-c22a-4a16-add9-b183c89af3f3",
   "metadata": {},
   "outputs": [
    {
     "name": "stdout",
     "output_type": "stream",
     "text": [
      "0.25     1030.0\n",
      "0.50     4003.0\n",
      "0.75    10203.5\n",
      "Name: ups, dtype: float64\n"
     ]
    }
   ],
   "source": [
    "import matplotlib.pyplot as plt\n",
    "print(shower_data['ups'].quantile([0.25,0.5,0.75]))"
   ]
  },
  {
   "cell_type": "code",
   "execution_count": 12,
   "id": "3c6dbf41-b610-4849-8030-193df766ede5",
   "metadata": {},
   "outputs": [],
   "source": [
    "targets\n",
    "def make_target_buckets(targets):\n",
    "    new_targets = []\n",
    "    for t in targets:\n",
    "        if t > 11451:\n",
    "            new_targets.append(4)\n",
    "        elif t > 6357.0:\n",
    "            new_targets.append(3)\n",
    "        elif t > 1402.5:\n",
    "            new_targets.append(2) \n",
    "        else:\n",
    "            new_targets.append(1)\n",
    "    return new_targets\n",
    "stat_targ_buckets = make_target_buckets(targets)\n"
   ]
  },
  {
   "cell_type": "code",
   "execution_count": 13,
   "id": "f3d62006-4b48-4393-8986-bec186e83df2",
   "metadata": {
    "tags": []
   },
   "outputs": [
    {
     "data": {
      "text/plain": [
       "(array([1250, 1122,  812,  815]), array([1, 2, 3, 4, 5]))"
      ]
     },
     "execution_count": 13,
     "metadata": {},
     "output_type": "execute_result"
    }
   ],
   "source": [
    "r = [1,2,3,4, 5]\n",
    "np.histogram(stat_targ_buckets, bins=r)\n",
    "# 32.7% dummy model accuracy "
   ]
  },
  {
   "cell_type": "code",
   "execution_count": 14,
   "id": "c05e0b96-215c-401f-9083-561c98e0d2d4",
   "metadata": {},
   "outputs": [],
   "source": [
    "# test=test\n",
    "X_train, X_val, y_train, y_val = train_test_split(features, stat_targ_buckets, test_size=.2, train_size=.8, random_state=None, shuffle=True, stratify=None)\n",
    "# test = val\n",
    "statX_train, statX_test, staty_train, staty_test = train_test_split(X_train, y_train, test_size=.2, train_size=.8, random_state=None, shuffle=True, stratify=None)\n"
   ]
  },
  {
   "cell_type": "code",
   "execution_count": 15,
   "id": "21f25277-e114-4bb3-9531-cb02f5db3fa3",
   "metadata": {},
   "outputs": [
    {
     "name": "stdout",
     "output_type": "stream",
     "text": [
      "0.3265625\n"
     ]
    },
    {
     "data": {
      "text/plain": [
       "<AxesSubplot:>"
      ]
     },
     "execution_count": 15,
     "metadata": {},
     "output_type": "execute_result"
    },
    {
     "data": {
      "image/png": "[encoded data removed]",
      "text/plain": [
       "<Figure size 432x288 with 2 Axes>"
      ]
     },
     "metadata": {
      "needs_background": "light"
     },
     "output_type": "display_data"
    }
   ],
   "source": [
    "from sklearn.linear_model import LogisticRegression\n",
    "logReg = LogisticRegression(random_state=0).fit(statX_train, staty_train)\n",
    "preds = logReg.predict(statX_test)\n",
    "\n",
    "print(logReg.score(statX_test, staty_test))\n",
    "rfcCM = confusion_matrix(preds, staty_test)\n",
    "sns.heatmap(rfcCM, annot=True)"
   ]
  },
  {
   "cell_type": "code",
   "execution_count": 16,
   "id": "cfaed23d-2959-4ea4-a7b9-d649a06848af",
   "metadata": {},
   "outputs": [
    {
     "name": "stdout",
     "output_type": "stream",
     "text": [
      "0.54375\n"
     ]
    },
    {
     "data": {
      "text/plain": [
       "<AxesSubplot:>"
      ]
     },
     "execution_count": 16,
     "metadata": {},
     "output_type": "execute_result"
    },
    {
     "data": {
      "image/png": "[encoded data removed]",
      "text/plain": [
       "<Figure size 432x288 with 2 Axes>"
      ]
     },
     "metadata": {
      "needs_background": "light"
     },
     "output_type": "display_data"
    }
   ],
   "source": [
    "from sklearn.metrics import classification_report\n",
    "from sklearn.metrics import confusion_matrix\n",
    "from sklearn.ensemble import RandomForestClassifier\n",
    "from sklearn.metrics import accuracy_score\n",
    "rfc = RandomForestClassifier(max_depth=None, random_state=36)\n",
    "rfc.fit(statX_train, staty_train)\n",
    "preds_rfc = rfc.predict(statX_test)\n",
    "print(accuracy_score(staty_test, preds_rfc))\n",
    "\n",
    "rfcCM = confusion_matrix(staty_test, preds_rfc)\n",
    "sns.heatmap(rfcCM, annot=True)"
   ]
  },
  {
   "cell_type": "code",
   "execution_count": 17,
   "id": "2fd8c106-8a5f-47da-b8fa-7efd95f048d8",
   "metadata": {},
   "outputs": [
    {
     "name": "stdout",
     "output_type": "stream",
     "text": [
      "0.3265625\n"
     ]
    },
    {
     "data": {
      "text/plain": [
       "<AxesSubplot:>"
      ]
     },
     "execution_count": 17,
     "metadata": {},
     "output_type": "execute_result"
    },
    {
     "data": {
      "image/png": "[encoded data removed]",
      "text/plain": [
       "<Figure size 432x288 with 2 Axes>"
      ]
     },
     "metadata": {
      "needs_background": "light"
     },
     "output_type": "display_data"
    }
   ],
   "source": [
    "from sklearn.svm import SVC\n",
    "clf= SVC(gamma='auto', C= 1, degree = 3, kernel = \"rbf\")\n",
    "clf.fit(statX_train, staty_train)\n",
    "\n",
    "preds2 = clf.predict(statX_test)\n",
    "print(accuracy_score(staty_test, preds2))\n",
    "rfcCM = confusion_matrix(staty_test, preds2)\n",
    "sns.heatmap(rfcCM, annot=True)"
   ]
  },
  {
   "cell_type": "code",
   "execution_count": 18,
   "id": "2e4a7dd9-1279-4abc-969d-dfa4dc7db070",
   "metadata": {},
   "outputs": [
    {
     "name": "stdout",
     "output_type": "stream",
     "text": [
      "0.50375\n"
     ]
    },
    {
     "data": {
      "text/plain": [
       "<AxesSubplot:>"
      ]
     },
     "execution_count": 18,
     "metadata": {},
     "output_type": "execute_result"
    },
    {
     "data": {
      "image/png": "[encoded data removed]",
      "text/plain": [
       "<Figure size 432x288 with 2 Axes>"
      ]
     },
     "metadata": {
      "needs_background": "light"
     },
     "output_type": "display_data"
    }
   ],
   "source": [
    "# test \n",
    "test = rfc.predict(X_val)\n",
    "print(accuracy_score(y_val, test))\n",
    "\n",
    "rfcCM = confusion_matrix(y_val, test)\n",
    "sns.heatmap(rfcCM, annot=True)"
   ]
  },
  {
   "cell_type": "code",
   "execution_count": null,
   "id": "2d9e3a8c-df02-4388-9a62-8c7a14da98ba",
   "metadata": {},
   "outputs": [],
   "source": []
  },
  {
   "cell_type": "code",
   "execution_count": null,
   "id": "0acf57b9-4cb4-4b97-89c0-bae5286ce078",
   "metadata": {},
   "outputs": [],
   "source": []
  },
  {
   "cell_type": "code",
   "execution_count": null,
   "id": "35994552-7869-4a2c-a955-a0e304ab61e0",
   "metadata": {},
   "outputs": [],
   "source": []
  },
  {
   "cell_type": "code",
   "execution_count": null,
   "id": "961a1755-dbaf-46d9-9edd-006df84cf2b8",
   "metadata": {},
   "outputs": [],
   "source": []
  }
 ],
 "metadata": {
  "kernelspec": {
   "display_name": "Python 3.8",
   "language": "python",
   "name": "python3"
  },
  "language_info": {
   "codemirror_mode": {
    "name": "ipython",
    "version": 3
   },
   "file_extension": ".py",
   "mimetype": "text/x-python",
   "name": "python",
   "nbconvert_exporter": "python",
   "pygments_lexer": "ipython3",
   "version": "3.8.6"
  }
 },
 "nbformat": 4,
 "nbformat_minor": 5
}
